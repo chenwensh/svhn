{
 "cells": [
  {
   "cell_type": "code",
   "execution_count": 8,
   "metadata": {},
   "outputs": [
    {
     "name": "stdout",
     "output_type": "stream",
     "text": [
      "(32, 32, 3, 73257) (73257, 1)\n",
      "(32, 32, 3, 26032) (26032, 1)\n"
     ]
    }
   ],
   "source": [
    "\n",
    "from __future__ import absolute_import\n",
    "from __future__ import division\n",
    "from __future__ import print_function\n",
    "\n",
    "import pandas as pd\n",
    "import numpy as np\n",
    "import matplotlib.pyplot as plt\n",
    "import tensorflow as tf\n",
    "\n",
    "\n",
    "from scipy.io import loadmat as load\n",
    "\n",
    "SVHNDATA_PATH = '/home/wchen/codes/svhn/dataset/'\n",
    "train_data = load(SVHNDATA_PATH + 'train_32x32.mat', variable_names = 'X').get('X')\n",
    "train_labels = load(SVHNDATA_PATH + 'train_32x32.mat', variable_names = 'y').get('y')\n",
    "test_data = load(SVHNDATA_PATH + 'test_32x32.mat', variable_names = 'X').get('X')\n",
    "test_labels = load(SVHNDATA_PATH + 'test_32x32.mat', variable_names = 'y').get('y')\n",
    "# TODO extra dataset...\n",
    "\n",
    "print(train_data.shape, train_labels.shape)\n",
    "print(test_data.shape, test_labels.shape)"
   ]
  },
  {
   "cell_type": "code",
   "execution_count": null,
   "metadata": {
    "collapsed": true
   },
   "outputs": [],
   "source": []
  }
 ],
 "metadata": {
  "kernelspec": {
   "display_name": "Python [default]",
   "language": "python",
   "name": "python3"
  },
  "language_info": {
   "codemirror_mode": {
    "name": "ipython",
    "version": 3
   },
   "file_extension": ".py",
   "mimetype": "text/x-python",
   "name": "python",
   "nbconvert_exporter": "python",
   "pygments_lexer": "ipython3",
   "version": "3.5.3"
  }
 },
 "nbformat": 4,
 "nbformat_minor": 2
}
